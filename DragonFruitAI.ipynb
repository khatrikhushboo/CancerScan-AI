{
 "cells": [
  {
   "cell_type": "code",
   "execution_count": 1,
   "metadata": {},
   "outputs": [],
   "source": [
    "import numpy as np\n",
    "import matplotlib.pyplot as plt\n",
    "from collections import deque\n",
    "import random"
   ]
  },
  {
   "cell_type": "markdown",
   "metadata": {},
   "source": [
    "## 1) Define datastructures to store compressed versions of matrices efficiently"
   ]
  },
  {
   "cell_type": "markdown",
   "metadata": {},
   "source": [
    "### a. Store microscope data:\n",
    "\n",
    "We will use a run length encoding style format to store the data. Since the virus is a continuous blob, we assume there to be long lengths of similarly colored pixels.\n",
    "\n",
    "For each row with black pixels, we will store a list of the start and end indices of the black pixels within that row.\n",
    "\n",
    "### b. Store dye data:\n",
    "\n",
    "The dye should be quite sparse based on the fact that only 0.1% of the images will have more than 10% filled apart from some leakage, which we are assuming is not too significant.\n",
    "\n",
    "We will store a list of the coordinates of the dye pixels."
   ]
  },
  {
   "cell_type": "code",
   "execution_count": 2,
   "metadata": {},
   "outputs": [],
   "source": [
    "micro_datastructure = {} #Store run length encoded data\n",
    "dye_datastructure = [] #Store dye data"
   ]
  },
  {
   "cell_type": "markdown",
   "metadata": {},
   "source": [
    "## Creating fake images and storing them in the datastructures"
   ]
  },
  {
   "cell_type": "markdown",
   "metadata": {},
   "source": [
    "Too many issues trying to fit a 100000x100000 matrix in memory even using boolean data type. \n",
    "\n",
    "So for the example, we will use an arbitrary shape of 100x100, and then zoom in 1000x to get a 100000x100000 matrix. \n",
    "\n",
    "Zoom works by repeating each pixel 1000 times in both the x and y directions."
   ]
  },
  {
   "cell_type": "markdown",
   "metadata": {},
   "source": [
    "### Fake microscope image generation and encoding"
   ]
  },
  {
   "cell_type": "code",
   "execution_count": 3,
   "metadata": {},
   "outputs": [
    {
     "data": {
      "image/png": "[encoded data removed]",
      "text/plain": [
       "<Figure size 432x288 with 1 Axes>"
      ]
     },
     "metadata": {
      "needs_background": "light"
     },
     "output_type": "display_data"
    }
   ],
   "source": [
    "# creating a 1000x1000 image\n",
    "def generate_arbitrary_shape_microscope(height, width, min_area_ratio=0.25,max_area_ratio = 0.5):\n",
    "    \"\"\" Generates an arbitrary continuous shape of 1s on a 0 background using cellular expansion. \"\"\"\n",
    "    image = np.zeros((height, width), dtype=bool)\n",
    "    area_ratio = np.random.uniform(min_area_ratio, max_area_ratio)\n",
    "    # Total required area\n",
    "    min_area = int(height * width * area_ratio)\n",
    "\n",
    "    # Random starting point (avoiding edges)\n",
    "    x = random.randint(width // 4, (3 * width) // 4)\n",
    "    y = random.randint(height // 4, (3 * height) // 4)\n",
    "    image[y, x] = 1  # Set initial point\n",
    "\n",
    "    # List of pixels to expand\n",
    "    expansion_list = [(x, y)]\n",
    "    area = 1  # Initial area count\n",
    "\n",
    "    # Directions for random growth (8 directions for arbitrary shape)\n",
    "    directions = [(1,0), (-1,0), (0,1), (0,-1), (1,1), (-1,-1), (1,-1), (-1,1)]\n",
    "    \n",
    "    while area < min_area and expansion_list:\n",
    "        # Pick a random pixel from the existing shape\n",
    "        random.shuffle(expansion_list)  # Shuffle to make shape more organic\n",
    "        x, y = expansion_list.pop()\n",
    "        \n",
    "        # Try expanding in a random direction\n",
    "        random.shuffle(directions)  # Shuffle growth directions\n",
    "        for dx, dy in directions:\n",
    "            nx, ny = x + dx, y + dy\n",
    "            if 0 <= nx < width and 0 <= ny < height and image[ny, nx] == 0:\n",
    "                image[ny, nx] = 1\n",
    "                area += 1\n",
    "                expansion_list.append((nx, ny))  # Add new pixel to expansion list\n",
    "                if area >= min_area:\n",
    "                    break  # Stop if we've filled enough space\n",
    "\n",
    "    return image\n",
    "\n",
    "# Generate the shape\n",
    "image = generate_arbitrary_shape_microscope(100,100)\n",
    "\n",
    "# Display the result\n",
    "plt.imshow(image, cmap='binary')\n",
    "plt.axis('off')\n",
    "plt.show()"
   ]
  },
  {
   "cell_type": "code",
   "execution_count": 4,
   "metadata": {},
   "outputs": [],
   "source": [
    "# Converting the image to encoding\n",
    "def encode_microscope(image, zoom_factor):\n",
    "    # Note: When encoding an actual image with full 100000x100000 size, if it fits in memory, the zoom would be unneccesary and hence the zoom factor would be 1    \n",
    "    # However, for the sake of this example image I generated, which doesnt fit in memory, we will use a zoom factor of 1000, to ensure no differences between a real image and the fake genrated image\n",
    "\n",
    "    #  Find first row with non-zero value using numpy\n",
    "    first_row = np.nonzero(np.any(image, axis=1))[0][0]\n",
    "    last_row = np.nonzero(np.any(image, axis=1))[0][-1]\n",
    "    encoded_image = {}\n",
    "    area = 0\n",
    "    \n",
    "    for i in range(first_row, last_row):\n",
    "        # Get current row\n",
    "        row = image[i]\n",
    "        # Initialize variables for run length encoding\n",
    "        start = None\n",
    "        encoding = []\n",
    "        \n",
    "        # Process each pixel\n",
    "        for i, pixel in enumerate(row):\n",
    "            if pixel == 1 and start is None:\n",
    "                # Start of a new run of 1s\n",
    "                start = i\n",
    "            elif pixel == 0 and start is not None:\n",
    "                # End of a run of 1s\n",
    "                end = i - 1\n",
    "                area += end - start + 1\n",
    "                encoding.append((start, end))\n",
    "                start = None\n",
    "        \n",
    "        # Handle case where row ends with 1s\n",
    "        if start is not None:\n",
    "            end = len(row) - 1\n",
    "            area += end - start + 1\n",
    "            encoding.append((start, end))\n",
    "        encoded_image[i] = encoding    # Zoom the encoding by the zoom factor\n",
    "    zoomed_encoded_image = {}\n",
    "    for i in encoded_image:\n",
    "        zoomed_row_index = i * zoom_factor\n",
    "        for j in range(zoomed_row_index, zoomed_row_index + zoom_factor):\n",
    "            zoomed_encoded_image[j] = [(start*zoom_factor, end*zoom_factor) for start, end in encoded_image[i]]\n",
    "    \n",
    "    return zoomed_encoded_image, area*(zoom_factor**2)"
   ]
  },
  {
   "cell_type": "code",
   "execution_count": 5,
   "metadata": {},
   "outputs": [],
   "source": [
    "encoded_image, virus_area = encode_microscope(image, 1000)"
   ]
  },
  {
   "cell_type": "markdown",
   "metadata": {},
   "source": [
    "### Fake dye image generation and encoding"
   ]
  },
  {
   "cell_type": "code",
   "execution_count": 6,
   "metadata": {},
   "outputs": [],
   "source": [
    "def generate_arbitrary_spots_dye(height, width, virus_area, zoom_factor):\n",
    "    # Generates an arbitrary number of arbritary shaped spots of dye on a 0 background.\n",
    "    \n",
    "    # Known Fact: The total area of dye spots will be between 0 and 10% of the total area of the fake microscope image with a 99.9% chance, and random number from 10% - 100% of the total area of the fake microscope image with a 0.1% chance\n",
    "    # Assumption: Accounting for the area covered by leaked dye will increase the total area of dye spots by a random number between 10% - 20%\n",
    "    \n",
    "    # Returning an encoded image of dye spots that include a list of pixel coordinates of the dye spots\n",
    "\n",
    "\n",
    "    # Calculating total dye area\n",
    "    virus_area = (virus_area // zoom_factor**2)\n",
    "    image_pixels = set()\n",
    "    leakage_area_ratio = np.random.uniform(0.1, 0.2)\n",
    "    non_cancer_parasite_area_ratio = np.random.uniform(0, 0.1)\n",
    "    cancer_parasite_area_ratio = np.random.uniform(0.1,1)\n",
    "    # Generate parasite type with 99.9% probability of non-cancer and 0.1% probability of cancer\n",
    "    parasite_area_ratio = np.random.choice(\n",
    "        [non_cancer_parasite_area_ratio, cancer_parasite_area_ratio], \n",
    "        p=[0.999, 0.001]\n",
    "    )\n",
    "    total_dye_area_ratio = parasite_area_ratio * (1 + leakage_area_ratio)\n",
    "    total_dye_area = int(virus_area * total_dye_area_ratio)\n",
    "\n",
    "    # Generate random number of spots (between 3 and 8)\n",
    "    num_spots = random.randint(3, 20)\n",
    "    \n",
    "    # Generate random areas that sum to total_dye_area\n",
    "    spot_areas = []\n",
    "    remaining_area = total_dye_area\n",
    "    \n",
    "    # Generate random proportions for all spots except the last one\n",
    "    for i in range(num_spots - 1):\n",
    "        # Generate a random area between 10-50% of remaining area\n",
    "        area = random.randint(int(0.1 * remaining_area), int(0.5 * remaining_area))\n",
    "        spot_areas.append(area)\n",
    "        remaining_area -= area\n",
    "    \n",
    "    # Add the remaining area to the last spot\n",
    "    spot_areas.append(remaining_area)\n",
    "    \n",
    "    # Shuffle the areas for randomness\n",
    "    random.shuffle(spot_areas)\n",
    "\n",
    "    for spot_area in spot_areas:\n",
    "        x = random.randint(0, width - 1)\n",
    "        y = random.randint(0, height - 1)\n",
    "        image_pixels.add((x, y))\n",
    "        expansion_list = [(x, y)]\n",
    "        area = 1 \n",
    "\n",
    "        # Directions for random growth (8 directions for arbitrary shape)\n",
    "        directions = [(1,0), (-1,0), (0,1), (0,-1), (1,1), (-1,-1), (1,-1), (-1,1)]\n",
    "        \n",
    "        while area < spot_area and expansion_list:\n",
    "            # Pick a random pixel from the existing shape\n",
    "            random.shuffle(expansion_list)  # Shuffle to make shape more organic\n",
    "            x, y = expansion_list.pop()\n",
    "            \n",
    "            # Try expanding in a random direction\n",
    "            random.shuffle(directions)  # Shuffle growth directions\n",
    "            for dx, dy in directions:\n",
    "                nx, ny = x + dx, y + dy\n",
    "                if 0 <= nx < width and 0 <= ny < height and ((nx, ny) not in image_pixels):\n",
    "                    image_pixels.add((nx, ny))\n",
    "                    area += 1\n",
    "                    expansion_list.append((nx, ny))  # Add new pixel to expansion list\n",
    "                    if area >= spot_area:\n",
    "                        break\n",
    "    zoom_image_pixels = []\n",
    "    dx,dy = np.indices((zoom_factor,zoom_factor))\n",
    "    count = 0\n",
    "    for x,y in image_pixels:\n",
    "        new_coords = np.array([(x*zoom_factor + dx_, y*zoom_factor + dy_) for dx_, dy_ in zip(dx.ravel(), dy.ravel())])\n",
    "        zoom_image_pixels.append(new_coords)\n",
    "        count += 1\n",
    "        if count % 10 == 0:\n",
    "            print(f\"Zooming in: Processed {count} pixels out of {len(image_pixels)}\")\n",
    "\n",
    "    zoom_image_pixels = np.concatenate(zoom_image_pixels)\n",
    "    return zoom_image_pixels, image_pixels\n",
    "    "
   ]
  },
  {
   "cell_type": "code",
   "execution_count": 7,
   "metadata": {},
   "outputs": [
    {
     "name": "stdout",
     "output_type": "stream",
     "text": [
      "Zooming in: Processed 10 pixels out of 100\n",
      "Zooming in: Processed 20 pixels out of 100\n",
      "Zooming in: Processed 30 pixels out of 100\n",
      "Zooming in: Processed 40 pixels out of 100\n",
      "Zooming in: Processed 50 pixels out of 100\n",
      "Zooming in: Processed 60 pixels out of 100\n",
      "Zooming in: Processed 70 pixels out of 100\n",
      "Zooming in: Processed 80 pixels out of 100\n",
      "Zooming in: Processed 90 pixels out of 100\n",
      "Zooming in: Processed 100 pixels out of 100\n"
     ]
    }
   ],
   "source": [
    "dye_image_pixels, display_image_pixels = generate_arbitrary_spots_dye(100, 100, virus_area, 1000)"
   ]
  },
  {
   "cell_type": "code",
   "execution_count": 8,
   "metadata": {},
   "outputs": [
    {
     "data": {
      "image/png": "[encoded data removed]",
      "text/plain": [
       "<Figure size 432x288 with 1 Axes>"
      ]
     },
     "metadata": {
      "needs_background": "light"
     },
     "output_type": "display_data"
    }
   ],
   "source": [
    "# Create a 100x100 matrix filled with zeros\n",
    "dye_image = np.zeros((100, 100))\n",
    "\n",
    "# Set pixels from dye_image_pixels to 1\n",
    "for x, y in display_image_pixels:\n",
    "    dye_image[x, y] = 1\n",
    "plt.imshow(dye_image, cmap='binary')\n",
    "plt.axis('off')\n",
    "plt.show()\n"
   ]
  },
  {
   "cell_type": "markdown",
   "metadata": {},
   "source": [
    "### 3) Compute whether the parasite has cancer or not"
   ]
  },
  {
   "cell_type": "markdown",
   "metadata": {},
   "source": [
    "For each pixel in the dye image, we will check if it is within the virus area.\n",
    "\n",
    "We can then use the total dye area to compare to virus area to determine if the parasite has cancer or not.\n",
    "\n",
    "We have the virus area from our microscope image encoding function."
   ]
  },
  {
   "cell_type": "code",
   "execution_count": 9,
   "metadata": {},
   "outputs": [],
   "source": [
    "# Binary Search for the highest lower or equal value, helps in finding if a dye pixel is in a run length encoded microsocpe image row\n",
    "def binary_search_highest_lower(lst, x):\n",
    "    low, high = 0, len(lst) - 1\n",
    "    result = None\n",
    "    \n",
    "    while low <= high:\n",
    "        mid = (low + high) // 2\n",
    "        if lst[mid][0] <= x:  # Changed < to <= to include equal values\n",
    "            result = mid\n",
    "            low = mid + 1\n",
    "        else:\n",
    "            high = mid - 1\n",
    "    \n",
    "    return result"
   ]
  },
  {
   "cell_type": "code",
   "execution_count": 10,
   "metadata": {},
   "outputs": [
    {
     "data": {
      "text/plain": [
       "False"
      ]
     },
     "execution_count": 10,
     "metadata": {},
     "output_type": "execute_result"
    }
   ],
   "source": [
    "def check_cancer(dye_image_pixels, microscope_encoded_image, virus_area):\n",
    "    # Checking if the parasite has cancer\n",
    "    # Returns True if the parasite has cancer, False otherwise\n",
    "    \n",
    "    # First calculate dye area inside the virus\n",
    "    dye_area_inside_virus = 0\n",
    "    for pixel in dye_image_pixels:\n",
    "        pixel_x = pixel[0]\n",
    "        pixel_y = pixel[1]\n",
    "        if pixel_x in microscope_encoded_image:\n",
    "            microscope_encoded_row = microscope_encoded_image[pixel_x]\n",
    "            current_position = 0\n",
    "            is_inside = False\n",
    "            if pixel_x in microscope_encoded_image:\n",
    "                nearest_idx = binary_search_highest_lower(microscope_encoded_row, pixel_y)\n",
    "                if nearest_idx is not None:\n",
    "                    if microscope_encoded_row[nearest_idx][0] <= pixel_y <= microscope_encoded_row[nearest_idx][1]:\n",
    "                        is_inside = True\n",
    "            if is_inside:\n",
    "                dye_area_inside_virus += 1\n",
    "\n",
    "    # return whether dye area inside virus is greater than 10% of virus area\n",
    "    return dye_area_inside_virus > 0.1*virus_area\n",
    "\n",
    "check_cancer(dye_image_pixels, encoded_image, virus_area)"
   ]
  },
  {
   "cell_type": "markdown",
   "metadata": {},
   "source": [
    "### 4) Improving speed of the check_cancer function"
   ]
  },
  {
   "cell_type": "markdown",
   "metadata": {},
   "source": [
    "Analyzing the time complexity of the check_cancer function:\n",
    "\n",
    "We loop over every active pixel in the dye image, we choose the matching row in the encoded image which is constant time, we then use binary search to find the nearest index to the pixel y coordinate, which is log(m) time.\n",
    "\n",
    "Hence, the time complexity is O(nlog(m)) where n is the number of pixels in the dye image, and m is the number of pixels in each row encoded image a.k.a the width of the image.\n",
    "\n",
    "This is the best we can do with the current encoding method of compressed microscope and dye image."
   ]
  },
  {
   "cell_type": "markdown",
   "metadata": {},
   "source": [
    "However, if we have the ability to store the entire microscope image in memory, for each pixel in the dye image, we can just check if it is in the virus area in constant time.\n",
    "\n",
    "So time complexity of the check_cancer function is O(n) if we store the entire microscope image in memory."
   ]
  },
  {
   "cell_type": "code",
   "execution_count": 12,
   "metadata": {},
   "outputs": [],
   "source": [
    "# The following is a way to check cancer with full microscope image in memory without any encoding\n",
    "# We wont test this because of memory constraints\n",
    "def check_cancer_with_full_microscope_image(dye_image_pixels, microscope_image, virus_area):\n",
    "    # Checking if the parasite has cancer\n",
    "    # Returns True if the parasite has cancer, False otherwise\n",
    "    \n",
    "    # First calculate dye area inside the virus\n",
    "    dye_area_inside_virus = 0\n",
    "    for pixel in dye_image_pixels:\n",
    "        pixel_x = pixel[0]\n",
    "        pixel_y = pixel[1]\n",
    "        if microscope_image[pixel_x, pixel_y] == 1:\n",
    "            dye_area_inside_virus += 1\n",
    "    return dye_area_inside_virus > 0.1*virus_area\n",
    "\n"
   ]
  },
  {
   "cell_type": "markdown",
   "metadata": {},
   "source": [
    "### 5) Other compression techniques and runtime analysis"
   ]
  },
  {
   "cell_type": "markdown",
   "metadata": {},
   "source": [
    "We can use coordinate storage to store the microscope image as well. This will likely take up more space than the run length encoding, and be less efficient in cancer detection as microsocpe image is continuous.\n",
    "\n",
    "We can use run length encoding to store the dye image as well. This will likely take up more space than the coordinate storage, and be less efficient in cancer detection as dye pixels are not contiguous and quite sparse.\n",
    "\n",
    "As mentioned in the previous section, the best we can do in time complexity to check cancer is O(n) if we store the entire microscope image in memory."
   ]
  },
  {
   "cell_type": "markdown",
   "metadata": {},
   "source": [
    "#### Checking storage and runtime"
   ]
  },
  {
   "cell_type": "markdown",
   "metadata": {},
   "source": [
    "We have already generated the fake microscope and dye images to the full dimensions in their encoded format. Even though these are not perfect, they can be representative of a typical real image. We can use that to check the storage used and the runtime of the cancer check function."
   ]
  },
  {
   "cell_type": "code",
   "execution_count": 13,
   "metadata": {},
   "outputs": [
    {
     "name": "stdout",
     "output_type": "stream",
     "text": [
      "Encoded microscope image size: 36960 bytes\n",
      "Dye image coordinates size: 1600000128 bytes\n",
      "Full uncompressed image would take: 10000000000 bytes\n",
      "Compression ratio: 270562.77x\n"
     ]
    }
   ],
   "source": [
    "# Check storage of encoded microscope image\n",
    "import sys\n",
    "encoded_microscope_image_size = sys.getsizeof(encoded_image)\n",
    "print(f\"Encoded microscope image size: {encoded_microscope_image_size} bytes\")\n",
    "\n",
    "# Check storage of dye image coordinates\n",
    "dye_image_coords_size = sys.getsizeof(dye_image_pixels)\n",
    "print(f\"Dye image coordinates size: {dye_image_coords_size} bytes\")\n",
    "\n",
    "# For comparison, calculate theoretical size of full uncompressed image\n",
    "# Assuming each pixel takes 1 byte\n",
    "full_image_size = 100000 * 100000\n",
    "print(f\"Full uncompressed image would take: {full_image_size} bytes\")\n",
    "\n",
    "compression_ratio = full_image_size / encoded_microscope_image_size\n",
    "print(f\"Compression ratio: {compression_ratio:.2f}x\")\n"
   ]
  },
  {
   "cell_type": "code",
   "execution_count": 14,
   "metadata": {},
   "outputs": [
    {
     "name": "stdout",
     "output_type": "stream",
     "text": [
      "Cancer check runtime: 11.985249519348145 seconds\n"
     ]
    }
   ],
   "source": [
    "# check runtime of cancer check function\n",
    "import time\n",
    "start_time = time.time()\n",
    "cancer_result = check_cancer(dye_image_pixels, encoded_image, virus_area)\n",
    "end_time = time.time()\n",
    "print(f\"Cancer check runtime: {end_time - start_time} seconds\")\n",
    "\n"
   ]
  },
  {
   "cell_type": "markdown",
   "metadata": {},
   "source": [
    "Note: Even though in this example, run length encoding would have taken lesser space than coordinate storage for dye image, in a real scenario, the run length encoding would have taken more space than coordinate storage due to it being more arbitrary."
   ]
  },
  {
   "cell_type": "markdown",
   "metadata": {},
   "source": [
    "### 6) LLM Techniques and tools used"
   ]
  },
  {
   "cell_type": "markdown",
   "metadata": {},
   "source": [
    "For this project, I have mainly utilized  ChatGPT to help get a better understanding of the problem and to suggest different techniques to solve it. These ideas were then analyzed, and further refined and improved by me.\n",
    "\n",
    "I have also coded using Cursor AI Editor, which provides an Claude 3.5 Sonnet model to help me write the code, and provide some autocompletes for faster development. While the LLM couldn't generate the entire code for the project all at once, it was able to help generate small useful code snippets that could helped improve my productivity.\n",
    "\n",
    "The only major tool apart from LLMs was the python numpy library, which I used mainly to perform matrix operations. Apart from this, most of the code is written in simple basic python."
   ]
  },
  {
   "cell_type": "markdown",
   "metadata": {},
   "source": []
  }
 ],
 "metadata": {
  "kernelspec": {
   "display_name": "csci_566",
   "language": "python",
   "name": "python3"
  },
  "language_info": {
   "codemirror_mode": {
    "name": "ipython",
    "version": 3
   },
   "file_extension": ".py",
   "mimetype": "text/x-python",
   "name": "python",
   "nbconvert_exporter": "python",
   "pygments_lexer": "ipython3",
   "version": "3.9.16"
  }
 },
 "nbformat": 4,
 "nbformat_minor": 2
}
